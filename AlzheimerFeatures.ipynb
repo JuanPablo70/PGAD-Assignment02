{
 "cells": [
  {
   "cell_type": "markdown",
   "id": "62932d85",
   "metadata": {},
   "source": [
    "# Escuela Colombiana de Ingeniería Julio Garavito\n",
    "\n",
    "## Programming for Data Analysis\n",
    "\n",
    "## Author\n",
    "\n",
    "Juan Pablo Sánchez Bermúdez"
   ]
  },
  {
   "cell_type": "markdown",
   "id": "c8991379",
   "metadata": {},
   "source": [
    "<hr/>\n",
    "    <div class=\"alert alert-success alertsuccess\" style=\"margin-top: 20px\">\n",
    "        <h4> Before start </h4>\n",
    "        <p>Install the following packages if you are running this notebook in Jupyter.</p>\n",
    "        <p><code>install.packages('data.table')</code></p>\n",
    "        <p><code>install.packages(\"dplyr\")</code></p>\n",
    "        <p><code>install.packages(\"tidyverse\")</code></p>\n",
    "        <p><code>install.packages(\"visdat\")</code></p>\n",
    "        <p><code>install.packages('devtools')</code></p>\n",
    "    </div>\n",
    "<hr/>"
   ]
  },
  {
   "cell_type": "code",
   "execution_count": 1,
   "id": "19c59cd3",
   "metadata": {},
   "outputs": [
    {
     "name": "stderr",
     "output_type": "stream",
     "text": [
      "\n",
      "Attaching package: 'dplyr'\n",
      "\n",
      "\n",
      "The following objects are masked from 'package:data.table':\n",
      "\n",
      "    between, first, last\n",
      "\n",
      "\n",
      "The following objects are masked from 'package:stats':\n",
      "\n",
      "    filter, lag\n",
      "\n",
      "\n",
      "The following objects are masked from 'package:base':\n",
      "\n",
      "    intersect, setdiff, setequal, union\n",
      "\n",
      "\n",
      "Loading required package: usethis\n",
      "\n"
     ]
    }
   ],
   "source": [
    "# Imports\n",
    "library(data.table)\n",
    "library(dplyr)\n",
    "#library(tidyverse)\n",
    "library(visdat) # visualize missing data\n",
    "library(devtools)"
   ]
  },
  {
   "cell_type": "markdown",
   "id": "f1ab0a66",
   "metadata": {},
   "source": [
    "# Alzheimer Features Data Set\n",
    "\n",
    "### 1. Selecting and loading Data Set\n",
    "I chose the [Alzheimer Features](https://www.kaggle.com/datasets/brsdincer/alzheimer-features) Data Set from Kaggle because I wanted to analyze another data set from scratch.\n",
    "\n",
    "Group &rarr; Class\n",
    "\n",
    "M/F &rarr; Male / Female\n",
    "\n",
    "Age &rarr; Age\n",
    "\n",
    "EDUC &rarr; Years of Education\n",
    "\n",
    "SES &rarr; Socioeconomic Status / 1-5\n",
    "\n",
    "MMSE &rarr; Mini Mental State Examination\n",
    "\n",
    "CDR &rarr; Clinical Dementia Rating\n",
    "\n",
    "eTIV &rarr; Estimated total intracranial volume\n",
    "\n",
    "nWBV &rarr; Normalize Whole Brain Volume\n",
    "\n",
    "ASF &rarr; Atlas Scaling Factor"
   ]
  },
  {
   "cell_type": "code",
   "execution_count": 2,
   "id": "d77f2580",
   "metadata": {},
   "outputs": [
    {
     "data": {
      "text/html": [
       "<table class=\"dataframe\">\n",
       "<caption>A data.table: 6 × 10</caption>\n",
       "<thead>\n",
       "\t<tr><th scope=col>Group</th><th scope=col>Gender</th><th scope=col>Age</th><th scope=col>EDUC</th><th scope=col>SES</th><th scope=col>MMSE</th><th scope=col>CDR</th><th scope=col>eTIV</th><th scope=col>nWBV</th><th scope=col>ASF</th></tr>\n",
       "\t<tr><th scope=col>&lt;chr&gt;</th><th scope=col>&lt;chr&gt;</th><th scope=col>&lt;int&gt;</th><th scope=col>&lt;int&gt;</th><th scope=col>&lt;int&gt;</th><th scope=col>&lt;int&gt;</th><th scope=col>&lt;dbl&gt;</th><th scope=col>&lt;int&gt;</th><th scope=col>&lt;dbl&gt;</th><th scope=col>&lt;dbl&gt;</th></tr>\n",
       "</thead>\n",
       "<tbody>\n",
       "\t<tr><td>Nondemented</td><td>M</td><td>87</td><td>14</td><td> 2</td><td>27</td><td>0.0</td><td>1987</td><td>0.696</td><td>0.883</td></tr>\n",
       "\t<tr><td>Nondemented</td><td>M</td><td>88</td><td>14</td><td> 2</td><td>30</td><td>0.0</td><td>2004</td><td>0.681</td><td>0.876</td></tr>\n",
       "\t<tr><td>Demented   </td><td>M</td><td>75</td><td>12</td><td>NA</td><td>23</td><td>0.5</td><td>1678</td><td>0.736</td><td>1.046</td></tr>\n",
       "\t<tr><td>Demented   </td><td>M</td><td>76</td><td>12</td><td>NA</td><td>28</td><td>0.5</td><td>1738</td><td>0.713</td><td>1.010</td></tr>\n",
       "\t<tr><td>Demented   </td><td>M</td><td>80</td><td>12</td><td>NA</td><td>22</td><td>0.5</td><td>1698</td><td>0.701</td><td>1.034</td></tr>\n",
       "\t<tr><td>Nondemented</td><td>F</td><td>88</td><td>18</td><td> 3</td><td>28</td><td>0.0</td><td>1215</td><td>0.710</td><td>1.444</td></tr>\n",
       "</tbody>\n",
       "</table>\n"
      ],
      "text/latex": [
       "A data.table: 6 × 10\n",
       "\\begin{tabular}{llllllllll}\n",
       " Group & Gender & Age & EDUC & SES & MMSE & CDR & eTIV & nWBV & ASF\\\\\n",
       " <chr> & <chr> & <int> & <int> & <int> & <int> & <dbl> & <int> & <dbl> & <dbl>\\\\\n",
       "\\hline\n",
       "\t Nondemented & M & 87 & 14 &  2 & 27 & 0.0 & 1987 & 0.696 & 0.883\\\\\n",
       "\t Nondemented & M & 88 & 14 &  2 & 30 & 0.0 & 2004 & 0.681 & 0.876\\\\\n",
       "\t Demented    & M & 75 & 12 & NA & 23 & 0.5 & 1678 & 0.736 & 1.046\\\\\n",
       "\t Demented    & M & 76 & 12 & NA & 28 & 0.5 & 1738 & 0.713 & 1.010\\\\\n",
       "\t Demented    & M & 80 & 12 & NA & 22 & 0.5 & 1698 & 0.701 & 1.034\\\\\n",
       "\t Nondemented & F & 88 & 18 &  3 & 28 & 0.0 & 1215 & 0.710 & 1.444\\\\\n",
       "\\end{tabular}\n"
      ],
      "text/markdown": [
       "\n",
       "A data.table: 6 × 10\n",
       "\n",
       "| Group &lt;chr&gt; | Gender &lt;chr&gt; | Age &lt;int&gt; | EDUC &lt;int&gt; | SES &lt;int&gt; | MMSE &lt;int&gt; | CDR &lt;dbl&gt; | eTIV &lt;int&gt; | nWBV &lt;dbl&gt; | ASF &lt;dbl&gt; |\n",
       "|---|---|---|---|---|---|---|---|---|---|\n",
       "| Nondemented | M | 87 | 14 |  2 | 27 | 0.0 | 1987 | 0.696 | 0.883 |\n",
       "| Nondemented | M | 88 | 14 |  2 | 30 | 0.0 | 2004 | 0.681 | 0.876 |\n",
       "| Demented    | M | 75 | 12 | NA | 23 | 0.5 | 1678 | 0.736 | 1.046 |\n",
       "| Demented    | M | 76 | 12 | NA | 28 | 0.5 | 1738 | 0.713 | 1.010 |\n",
       "| Demented    | M | 80 | 12 | NA | 22 | 0.5 | 1698 | 0.701 | 1.034 |\n",
       "| Nondemented | F | 88 | 18 |  3 | 28 | 0.0 | 1215 | 0.710 | 1.444 |\n",
       "\n"
      ],
      "text/plain": [
       "  Group       Gender Age EDUC SES MMSE CDR eTIV nWBV  ASF  \n",
       "1 Nondemented M      87  14    2  27   0.0 1987 0.696 0.883\n",
       "2 Nondemented M      88  14    2  30   0.0 2004 0.681 0.876\n",
       "3 Demented    M      75  12   NA  23   0.5 1678 0.736 1.046\n",
       "4 Demented    M      76  12   NA  28   0.5 1738 0.713 1.010\n",
       "5 Demented    M      80  12   NA  22   0.5 1698 0.701 1.034\n",
       "6 Nondemented F      88  18    3  28   0.0 1215 0.710 1.444"
      ]
     },
     "metadata": {},
     "output_type": "display_data"
    }
   ],
   "source": [
    "# dataFrame <- read.table(file='alzheimer.csv',header=TRUE, sep=',')\n",
    "dataFrame <- fread('alzheimer.csv')\n",
    "\n",
    "# Rename M/F column\n",
    "colnames(dataFrame)[2] <- \"Gender\"\n",
    "\n",
    "head(dataFrame)"
   ]
  },
  {
   "cell_type": "markdown",
   "id": "a66d26fa",
   "metadata": {},
   "source": [
    "### 2. Missing values\n",
    "Now that the data frame is set, let's get details about the missing values of the data frame.\n",
    "  - Columns with missing values\n",
    "  - Rows with missing values\n",
    "  - A percentage of records with missing values\n",
    "  - Graphics to visualize missing information"
   ]
  },
  {
   "cell_type": "code",
   "execution_count": 3,
   "id": "ed2f7729",
   "metadata": {},
   "outputs": [],
   "source": [
    "missingValues <- function(df) {\n",
    "    newDf <- data.frame(df)\n",
    "    print(\"Rows and Columns with missing values respectively\")\n",
    "    size <- dim(df)\n",
    "    count <- 0\n",
    "    state <- FALSE\n",
    "    for (row in 1:size[1]) {\n",
    "        for (column in 1:size[2]) {\n",
    "            if (newDf[row, column] %in% NA) {\n",
    "                print(paste(row, column))\n",
    "                state <- TRUE\n",
    "            }\n",
    "        }\n",
    "        if (state) {\n",
    "            count <- count + 1\n",
    "            state <- FALSE\n",
    "        }\n",
    "    }\n",
    "    percentage <- (count * 100) / size[1]\n",
    "    print(\"------------------------------------------------------\")\n",
    "    print(paste(sprintf(\"The percentage of records with missing values is %.2f\", percentage), \"%\"))\n",
    "    print(\"------------------------------------------------------\")\n",
    "    print(\"Graphic to visualize missing information\")\n",
    "    vis_dat(df)\n",
    "}"
   ]
  },
  {
   "cell_type": "code",
   "execution_count": 4,
   "id": "e29a12db",
   "metadata": {},
   "outputs": [
    {
     "name": "stdout",
     "output_type": "stream",
     "text": [
      "[1] \"Rows and Columns with missing values respectively\"\n",
      "[1] \"3 5\"\n",
      "[1] \"4 5\"\n",
      "[1] \"5 5\"\n",
      "[1] \"11 5\"\n",
      "[1] \"12 5\"\n",
      "[1] \"13 5\"\n",
      "[1] \"135 5\"\n",
      "[1] \"136 5\"\n",
      "[1] \"208 5\"\n",
      "[1] \"209 5\"\n",
      "[1] \"238 5\"\n",
      "[1] \"239 5\"\n",
      "[1] \"323 5\"\n",
      "[1] \"324 5\"\n",
      "[1] \"357 5\"\n",
      "[1] \"358 5\"\n",
      "[1] \"358 6\"\n",
      "[1] \"359 5\"\n",
      "[1] \"359 6\"\n",
      "[1] \"360 5\"\n",
      "[1] \"361 5\"\n",
      "[1] \"------------------------------------------------------\"\n",
      "[1] \"The percentage of records with missing values is 5.09 %\"\n",
      "[1] \"------------------------------------------------------\"\n",
      "[1] \"Graphic to visualize missing information\"\n"
     ]
    },
    {
     "data": {
      "image/png": "[encoded data removed]",
      "text/plain": [
       "plot without title"
      ]
     },
     "metadata": {
      "image/png": {
       "height": 420,
       "width": 420
      }
     },
     "output_type": "display_data"
    }
   ],
   "source": [
    "missingValues(dataFrame)"
   ]
  },
  {
   "cell_type": "markdown",
   "id": "1b3c58e9",
   "metadata": {},
   "source": [
    "### 3. Imputing Missing Data\n",
    "We saw above that the data frame has missing values, so now let's impute data to the missing values using three strategies, mean, median and mode."
   ]
  },
  {
   "cell_type": "code",
   "execution_count": 5,
   "id": "d542cd84",
   "metadata": {},
   "outputs": [],
   "source": [
    "# Create mode function\n",
    "myMode <- function(df) {\n",
    "    newDf <- data.frame(df)\n",
    "    size <- dim(newDf)\n",
    "    for (column in 1:size[2]) {\n",
    "        columnMode <- sort(table(newDf[, column]), decreasing=TRUE)[1]\n",
    "        for (row in 1:size[1]) {\n",
    "            if (newDf[row, column] %in% NA) {\n",
    "                newDf[row, column] <- as.numeric(names(columnMode))\n",
    "            }\n",
    "        }\n",
    "    }\n",
    "    return(newDf)\n",
    "}\n",
    "\n",
    "naValues <- function(df, s) {\n",
    "    newDf <- data.frame(df)\n",
    "    size <- dim(newDf)\n",
    "    for (row in 1:size[1]) {\n",
    "        for (column in 1:size[2]) {\n",
    "            if (newDf[row, column] %in% NA) {\n",
    "                newDf[row, column] <- s[column - 2]\n",
    "            }\n",
    "        }\n",
    "    }\n",
    "    return(newDf)\n",
    "}\n",
    "\n",
    "imputeData <- function(df, s) {\n",
    "    if (s == \"mean\") {\n",
    "        meanColumns <- colMeans(dataFrame[,3:10], na.rm=TRUE) # 3:10 due it only recives numeric values and column 1 and 2 are not numeric\n",
    "        newDf <- naValues(df, meanColumns)\n",
    "    } else if (s == \"median\") {\n",
    "        medianColumns <- apply(dataFrame[,3:10], 2, median, na.rm=TRUE) # colMedians didn't work\n",
    "        newDf <- naValues(df, medianColumns)\n",
    "    } else if (s == \"mode\") {\n",
    "        newDf <- myMode(df)\n",
    "    } else {\n",
    "        print(\"You typed a wrong word!\")\n",
    "        newDf <- df\n",
    "    }\n",
    "    return(newDf)\n",
    "    \n",
    "}"
   ]
  },
  {
   "cell_type": "markdown",
   "id": "48e9fbde",
   "metadata": {},
   "source": [
    "##### Note: The myMode function was taken from https://www.youtube.com/watch?v=iBM2Wyfs03w\n",
    "Let's call the ```imputeData``` function and visualize if there are not NA values calling the ```missingValues``` function."
   ]
  },
  {
   "cell_type": "code",
   "execution_count": 6,
   "id": "6ec1bd8b",
   "metadata": {},
   "outputs": [
    {
     "name": "stdout",
     "output_type": "stream",
     "text": [
      "Type a strategie: mean\n",
      "[1] \"Rows and Columns with missing values respectively\"\n",
      "[1] \"------------------------------------------------------\"\n",
      "[1] \"The percentage of records with missing values is 0.00 %\"\n",
      "[1] \"------------------------------------------------------\"\n",
      "[1] \"Graphic to visualize missing information\"\n"
     ]
    },
    {
     "data": {
      "image/png": "[encoded data removed]",
      "text/plain": [
       "plot without title"
      ]
     },
     "metadata": {
      "image/png": {
       "height": 420,
       "width": 420
      }
     },
     "output_type": "display_data"
    }
   ],
   "source": [
    "input <- readline(prompt=\"Type a strategie: \")\n",
    "newDf <- imputeData(dataFrame, input)\n",
    "missingValues(newDf)"
   ]
  },
  {
   "cell_type": "markdown",
   "id": "57ae66f6",
   "metadata": {},
   "source": [
    "Correlation https://cran.r-project.org/web/packages/visdat/readme/README.html"
   ]
  },
  {
   "cell_type": "markdown",
   "id": "9c8cf444",
   "metadata": {},
   "source": [
    "### 4. Visualizing data\n",
    "- Plot a histogram of two variables from the data set."
   ]
  },
  {
   "cell_type": "code",
   "execution_count": 7,
   "id": "7f7ddccf",
   "metadata": {},
   "outputs": [
    {
     "data": {
      "image/png": "[encoded data removed]",
      "text/plain": [
       "Plot with title \"Histogram of two variables\""
      ]
     },
     "metadata": {
      "image/png": {
       "height": 420,
       "width": 420
      }
     },
     "output_type": "display_data"
    }
   ],
   "source": [
    "hist(newDf$EDU, xlim=c(0,40), col=rgb(1,0,0,0.5), xlab=\"EDU & MMSE\", ylab=\"Count\", main=\"Histogram of two variables\")\n",
    "hist(newDf$MMSE, xlim=c(0,40), col=rgb(0,0,1,0.5), add=TRUE)\n",
    "\n",
    "legend(x=\"topright\", legend=c(\"EDU\", \"MMSE\"), lwd=4, col=c(rgb(1,0,0,0.5), rgb(0,0,1,0.5)))"
   ]
  },
  {
   "cell_type": "markdown",
   "id": "591b5608",
   "metadata": {},
   "source": [
    "- Generate scatter plots displaying between two variables of the dataset"
   ]
  },
  {
   "cell_type": "code",
   "execution_count": 8,
   "id": "52f9cfc9",
   "metadata": {},
   "outputs": [
    {
     "data": {
      "image/png": "[encoded data removed]",
      "text/plain": [
       "Plot with title \"Scatterplot of two variables\""
      ]
     },
     "metadata": {
      "image/png": {
       "height": 420,
       "width": 420
      }
     },
     "output_type": "display_data"
    }
   ],
   "source": [
    "plot(newDf$Age, newDf$EDUC, col=rgb(1,0,0,0.5), xlim=c(0,100),pch=19, cex=1.3, xlab=\"\", ylab=\"\", main=\"Scatterplot of two variables\")\n",
    "points(newDf$SES, newDf$MMSE, col=\"blue\", pch=19, cex=1.3)\n",
    "\n",
    "legend(x=\"topright\", legend=c(\"Age & EDUC\", \"SES & MMSE\"), pch=c(19, 19), col=c(rgb(1,0,0,0.5), rgb(0,0,1,0.5)))"
   ]
  },
  {
   "cell_type": "markdown",
   "id": "e55d66a6",
   "metadata": {},
   "source": [
    "- Computes and plots the correlation between your variables. What are the most correlated variables?"
   ]
  },
  {
   "cell_type": "code",
   "execution_count": 9,
   "id": "e4b052dc",
   "metadata": {},
   "outputs": [
    {
     "data": {
      "image/png": "[encoded data removed]",
      "text/plain": [
       "plot without title"
      ]
     },
     "metadata": {
      "image/png": {
       "height": 420,
       "width": 420
      }
     },
     "output_type": "display_data"
    }
   ],
   "source": [
    "vis_cor(newDf[,3:10], cor=\"pearson\")"
   ]
  },
  {
   "cell_type": "markdown",
   "id": "67874755",
   "metadata": {},
   "source": [
    "Given the correlation matrix above, the most correlated variables are ```nWBV``` and ```MMSE``` due to they are the closest to 1."
   ]
  }
 ],
 "metadata": {
  "kernelspec": {
   "display_name": "R",
   "language": "R",
   "name": "ir"
  },
  "language_info": {
   "codemirror_mode": "r",
   "file_extension": ".r",
   "mimetype": "text/x-r-source",
   "name": "R",
   "pygments_lexer": "r",
   "version": "4.2.3"
  }
 },
 "nbformat": 4,
 "nbformat_minor": 5
}
