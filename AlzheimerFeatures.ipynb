{
 "cells": [
  {
   "cell_type": "markdown",
   "id": "62932d85",
   "metadata": {},
   "source": [
    "## Escuela Colombiana de Ingeniería Julio Garavito\n",
    "\n",
    "### Programming for Data Analysis\n",
    "\n",
    "### Author\n",
    "\n",
    "Juan Pablo Sánchez Bermúdez"
   ]
  },
  {
   "cell_type": "code",
   "execution_count": 4,
   "id": "19c59cd3",
   "metadata": {},
   "outputs": [
    {
     "name": "stderr",
     "output_type": "stream",
     "text": [
      "\n",
      "Attaching package: 'dplyr'\n",
      "\n",
      "\n",
      "The following objects are masked from 'package:data.table':\n",
      "\n",
      "    between, first, last\n",
      "\n",
      "\n",
      "The following objects are masked from 'package:stats':\n",
      "\n",
      "    filter, lag\n",
      "\n",
      "\n",
      "The following objects are masked from 'package:base':\n",
      "\n",
      "    intersect, setdiff, setequal, union\n",
      "\n",
      "\n"
     ]
    }
   ],
   "source": [
    "# Imports\n",
    "library(data.table)\n",
    "library(dplyr)"
   ]
  },
  {
   "cell_type": "markdown",
   "id": "f1ab0a66",
   "metadata": {},
   "source": [
    "# Alzheimer Features Data Set\n",
    "\n",
    "### 1. Selecting and loading Data Set\n",
    "I chose the [Alzheimer Features](https://www.kaggle.com/datasets/brsdincer/alzheimer-features) Data Set from Kaggle because I wanted to analyze another data set from scratch.\n",
    "\n",
    "Group &rarr; Class\n",
    "\n",
    "M/F &rarr; Male / Female\n",
    "\n",
    "Age &rarr; Age\n",
    "\n",
    "EDUC &rarr; Years of Education\n",
    "\n",
    "SES &rarr; Socioeconomic Status / 1-5\n",
    "\n",
    "MMSE &rarr; Mini Mental State Examination\n",
    "\n",
    "CDR &rarr; Clinical Dementia Rating\n",
    "\n",
    "eTIV &rarr; Estimated total intracranial volume\n",
    "\n",
    "nWBV &rarr; Normalize Whole Brain Volume\n",
    "\n",
    "ASF &rarr; Atlas Scaling Factor"
   ]
  },
  {
   "cell_type": "code",
   "execution_count": 2,
   "id": "d77f2580",
   "metadata": {},
   "outputs": [
    {
     "data": {
      "text/html": [
       "<table class=\"dataframe\">\n",
       "<caption>A data.table: 6 × 10</caption>\n",
       "<thead>\n",
       "\t<tr><th scope=col>Group</th><th scope=col>M/F</th><th scope=col>Age</th><th scope=col>EDUC</th><th scope=col>SES</th><th scope=col>MMSE</th><th scope=col>CDR</th><th scope=col>eTIV</th><th scope=col>nWBV</th><th scope=col>ASF</th></tr>\n",
       "\t<tr><th scope=col>&lt;chr&gt;</th><th scope=col>&lt;chr&gt;</th><th scope=col>&lt;int&gt;</th><th scope=col>&lt;int&gt;</th><th scope=col>&lt;int&gt;</th><th scope=col>&lt;int&gt;</th><th scope=col>&lt;dbl&gt;</th><th scope=col>&lt;int&gt;</th><th scope=col>&lt;dbl&gt;</th><th scope=col>&lt;dbl&gt;</th></tr>\n",
       "</thead>\n",
       "<tbody>\n",
       "\t<tr><td>Nondemented</td><td>M</td><td>87</td><td>14</td><td> 2</td><td>27</td><td>0.0</td><td>1987</td><td>0.696</td><td>0.883</td></tr>\n",
       "\t<tr><td>Nondemented</td><td>M</td><td>88</td><td>14</td><td> 2</td><td>30</td><td>0.0</td><td>2004</td><td>0.681</td><td>0.876</td></tr>\n",
       "\t<tr><td>Demented   </td><td>M</td><td>75</td><td>12</td><td>NA</td><td>23</td><td>0.5</td><td>1678</td><td>0.736</td><td>1.046</td></tr>\n",
       "\t<tr><td>Demented   </td><td>M</td><td>76</td><td>12</td><td>NA</td><td>28</td><td>0.5</td><td>1738</td><td>0.713</td><td>1.010</td></tr>\n",
       "\t<tr><td>Demented   </td><td>M</td><td>80</td><td>12</td><td>NA</td><td>22</td><td>0.5</td><td>1698</td><td>0.701</td><td>1.034</td></tr>\n",
       "\t<tr><td>Nondemented</td><td>F</td><td>88</td><td>18</td><td> 3</td><td>28</td><td>0.0</td><td>1215</td><td>0.710</td><td>1.444</td></tr>\n",
       "</tbody>\n",
       "</table>\n"
      ],
      "text/latex": [
       "A data.table: 6 × 10\n",
       "\\begin{tabular}{llllllllll}\n",
       " Group & M/F & Age & EDUC & SES & MMSE & CDR & eTIV & nWBV & ASF\\\\\n",
       " <chr> & <chr> & <int> & <int> & <int> & <int> & <dbl> & <int> & <dbl> & <dbl>\\\\\n",
       "\\hline\n",
       "\t Nondemented & M & 87 & 14 &  2 & 27 & 0.0 & 1987 & 0.696 & 0.883\\\\\n",
       "\t Nondemented & M & 88 & 14 &  2 & 30 & 0.0 & 2004 & 0.681 & 0.876\\\\\n",
       "\t Demented    & M & 75 & 12 & NA & 23 & 0.5 & 1678 & 0.736 & 1.046\\\\\n",
       "\t Demented    & M & 76 & 12 & NA & 28 & 0.5 & 1738 & 0.713 & 1.010\\\\\n",
       "\t Demented    & M & 80 & 12 & NA & 22 & 0.5 & 1698 & 0.701 & 1.034\\\\\n",
       "\t Nondemented & F & 88 & 18 &  3 & 28 & 0.0 & 1215 & 0.710 & 1.444\\\\\n",
       "\\end{tabular}\n"
      ],
      "text/markdown": [
       "\n",
       "A data.table: 6 × 10\n",
       "\n",
       "| Group &lt;chr&gt; | M/F &lt;chr&gt; | Age &lt;int&gt; | EDUC &lt;int&gt; | SES &lt;int&gt; | MMSE &lt;int&gt; | CDR &lt;dbl&gt; | eTIV &lt;int&gt; | nWBV &lt;dbl&gt; | ASF &lt;dbl&gt; |\n",
       "|---|---|---|---|---|---|---|---|---|---|\n",
       "| Nondemented | M | 87 | 14 |  2 | 27 | 0.0 | 1987 | 0.696 | 0.883 |\n",
       "| Nondemented | M | 88 | 14 |  2 | 30 | 0.0 | 2004 | 0.681 | 0.876 |\n",
       "| Demented    | M | 75 | 12 | NA | 23 | 0.5 | 1678 | 0.736 | 1.046 |\n",
       "| Demented    | M | 76 | 12 | NA | 28 | 0.5 | 1738 | 0.713 | 1.010 |\n",
       "| Demented    | M | 80 | 12 | NA | 22 | 0.5 | 1698 | 0.701 | 1.034 |\n",
       "| Nondemented | F | 88 | 18 |  3 | 28 | 0.0 | 1215 | 0.710 | 1.444 |\n",
       "\n"
      ],
      "text/plain": [
       "  Group       M/F Age EDUC SES MMSE CDR eTIV nWBV  ASF  \n",
       "1 Nondemented M   87  14    2  27   0.0 1987 0.696 0.883\n",
       "2 Nondemented M   88  14    2  30   0.0 2004 0.681 0.876\n",
       "3 Demented    M   75  12   NA  23   0.5 1678 0.736 1.046\n",
       "4 Demented    M   76  12   NA  28   0.5 1738 0.713 1.010\n",
       "5 Demented    M   80  12   NA  22   0.5 1698 0.701 1.034\n",
       "6 Nondemented F   88  18    3  28   0.0 1215 0.710 1.444"
      ]
     },
     "metadata": {},
     "output_type": "display_data"
    }
   ],
   "source": [
    "# dataFrame <- read.table(file='alzheimer.csv',header=TRUE, sep=',')\n",
    "dataFrame <- fread('alzheimer.csv')\n",
    "\n",
    "# Rename M/F column\n",
    "colnames(dataFrame)[2] <- \"Gender\"\n",
    "\n",
    "head(dataFrame)"
   ]
  },
  {
   "cell_type": "markdown",
   "id": "a66d26fa",
   "metadata": {},
   "source": [
    "### 2. Missing values\n",
    "Now that the data frame is set, let's get details about the missing values of the data frame.\n",
    "  - Columns with missing values\n",
    "  - Rows with missing values\n",
    "  - A percentage of records with missing values\n",
    "  - Graphics to visualize missing information"
   ]
  },
  {
   "cell_type": "code",
   "execution_count": 110,
   "id": "ed2f7729",
   "metadata": {},
   "outputs": [
    {
     "name": "stdout",
     "output_type": "stream",
     "text": [
      "[1] \"Rows and Columns with missing values respectively\"\n",
      "[1] \"3 5\"\n",
      "[1] \"4 5\"\n",
      "[1] \"5 5\"\n",
      "[1] \"11 5\"\n",
      "[1] \"12 5\"\n",
      "[1] \"13 5\"\n",
      "[1] \"135 5\"\n",
      "[1] \"136 5\"\n",
      "[1] \"208 5\"\n",
      "[1] \"209 5\"\n",
      "[1] \"238 5\"\n",
      "[1] \"239 5\"\n",
      "[1] \"323 5\"\n",
      "[1] \"324 5\"\n",
      "[1] \"357 5\"\n",
      "[1] \"358 5\"\n",
      "[1] \"358 6\"\n",
      "[1] \"359 5\"\n",
      "[1] \"359 6\"\n",
      "[1] \"360 5\"\n",
      "[1] \"361 5\"\n"
     ]
    }
   ],
   "source": [
    "missingValues <- function(df) {\n",
    "    print(\"Rows and Columns with missing values respectively\")\n",
    "    size <- dim(df)\n",
    "    for (row in 1:size[1]) {\n",
    "        for (column in 1:size[2]) {\n",
    "            if (df[row, ..column] %in% \"NA\") {\n",
    "                print(paste(row, column))\n",
    "            }\n",
    "        }\n",
    "    }\n",
    "}\n",
    "missingValues(dataFrame)"
   ]
  },
  {
   "cell_type": "code",
   "execution_count": 90,
   "id": "e29a12db",
   "metadata": {},
   "outputs": [
    {
     "data": {
      "text/html": [
       "'Group'"
      ],
      "text/latex": [
       "'Group'"
      ],
      "text/markdown": [
       "'Group'"
      ],
      "text/plain": [
       "[1] \"Group\""
      ]
     },
     "metadata": {},
     "output_type": "display_data"
    },
    {
     "data": {
      "text/html": [
       "373"
      ],
      "text/latex": [
       "373"
      ],
      "text/markdown": [
       "373"
      ],
      "text/plain": [
       "[1] 373"
      ]
     },
     "metadata": {},
     "output_type": "display_data"
    },
    {
     "data": {
      "text/html": [
       "10"
      ],
      "text/latex": [
       "10"
      ],
      "text/markdown": [
       "10"
      ],
      "text/plain": [
       "[1] 10"
      ]
     },
     "metadata": {},
     "output_type": "display_data"
    },
    {
     "data": {
      "text/html": [
       "TRUE"
      ],
      "text/latex": [
       "TRUE"
      ],
      "text/markdown": [
       "TRUE"
      ],
      "text/plain": [
       "[1] TRUE"
      ]
     },
     "metadata": {},
     "output_type": "display_data"
    }
   ],
   "source": [
    "#names(dataFrame)\n",
    "#rename(dataFrame, M/F = mf)\n",
    "#colnames(dataFrame)[2] <- \"Gender\"\n",
    "#names(dataFrame)\n",
    "#select(filter(dataFrame, Group %in% NA | Gender %in% NA | Age %in% NA | EDUC %in% NA | SES %in% NA | MMSE %in%NA | CDR %in% NA | eTIV %in% NA | nWBV %in% NA | ASF %in% NA), names(dataFrame))\n",
    "size <- dim(dataFrame)\n",
    "colnames(dataFrame)[1]\n",
    "size[1]\n",
    "size[2]\n",
    "dataFrame[3, 5] %in% \"NA\""
   ]
  },
  {
   "cell_type": "code",
   "execution_count": null,
   "id": "fad37cc5",
   "metadata": {},
   "outputs": [],
   "source": []
  }
 ],
 "metadata": {
  "kernelspec": {
   "display_name": "R",
   "language": "R",
   "name": "ir"
  },
  "language_info": {
   "codemirror_mode": "r",
   "file_extension": ".r",
   "mimetype": "text/x-r-source",
   "name": "R",
   "pygments_lexer": "r",
   "version": "4.2.3"
  }
 },
 "nbformat": 4,
 "nbformat_minor": 5
}
